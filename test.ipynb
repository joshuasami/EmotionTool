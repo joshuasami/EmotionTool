{
 "cells": [
  {
   "cell_type": "code",
   "execution_count": 1,
   "metadata": {},
   "outputs": [
    {
     "name": "stdout",
     "output_type": "stream",
     "text": [
      "Hello World\n"
     ]
    }
   ],
   "source": [
    "print(\"Hello World\")"
   ]
  },
  {
   "cell_type": "code",
   "execution_count": null,
   "metadata": {},
   "outputs": [],
   "source": [
    "import csv\n",
    "file = \"in/vignetten_data_masterfile_Team5_06102022.csv\"\n",
    "with open(file, newline='', encoding=\"utf8\") as csvfile:\n",
    "    spamreader = csv.reader(csvfile, delimiter=';', quotechar='|')\n",
    "    counter = 0\n",
    "    for row in spamreader:\n",
    "        rows_categories = {}\n",
    "        \n",
    "        for i in range(len(row)):\n",
    "            if counter == 0:    \n",
    "                rows_categories[i] = row[i]\n",
    "            \n",
    "            else:\n",
    "                answers = []\n",
    "                columns_to_print = []\n",
    "                columns_others = []\n",
    "                emotions = []\n",
    "\n",
    "                if rows_categories[i] in settings['EC']['labels_shown']:\n",
    "                    columns_to_print.append(row[i])\n",
    "                elif rows_categories[i] in settings['input']['answers']:\n",
    "                    answers.append(row[i])\n",
    "                else:\n",
    "                    columns_others.append(row[i])\n",
    "\n",
    "        \n",
    "\n",
    "\n",
    "            \n",
    "            counter += 1\n",
    "                \n",
    "        \n",
    "\n",
    "        print(row)"
   ]
  },
  {
   "cell_type": "code",
   "execution_count": 20,
   "metadata": {},
   "outputs": [],
   "source": [
    "import json\n",
    "f = open(\"settings.json\", encoding=\"utf8\")\n",
    "settings = json.load(f)\n",
    "f.close()"
   ]
  },
  {
   "cell_type": "code",
   "execution_count": 18,
   "metadata": {},
   "outputs": [
    {
     "name": "stdout",
     "output_type": "stream",
     "text": [
      "id\n",
      "2\n"
     ]
    }
   ],
   "source": [
    "for i in out['EC']['labels_shown']:\n",
    "    print(i)"
   ]
  },
  {
   "cell_type": "code",
   "execution_count": 30,
   "metadata": {},
   "outputs": [
    {
     "name": "stdout",
     "output_type": "stream",
     "text": [
      "[['gar', 'nicht'], ['nicht'], ['1']]\n"
     ]
    }
   ],
   "source": [
    "def getSingleWordList(file):\n",
    "    out = []\n",
    "\n",
    "    with open(file, mode='r', encoding=\"utf8\") as infile:\n",
    "        reader = csv.reader(infile, delimiter=\";\")\n",
    "        out = [row[0].split() for row in reader]\n",
    "        out.sort(key=len, reverse=True)\n",
    "\n",
    "    out = [[y for y in i] for i in out]\n",
    "    return out\n",
    "\n",
    "file = \"lists/negation.csv\"\n",
    "\n",
    "print(getSingleWordList(file))"
   ]
  },
  {
   "cell_type": "code",
   "execution_count": null,
   "metadata": {},
   "outputs": [],
   "source": [
    "class IOMachine:\n",
    "\n",
    "    def __new__(self, file):\n",
    "        ending = file.split(\".\")\n",
    "\n",
    "        if ending == \"csv\":\n",
    "            return object.__new__(CSV_IOMachine)\n",
    "        \n",
    "        elif ending == \"json\":\n",
    "            return object.__new__(CSV_IOMachine)\n",
    "        \n",
    "        else:\n",
    "            print(\"\")\n",
    "\n",
    "    def __init__(self, encoding: str, delimiter: str):\n",
    "        self.encoding = encoding\n",
    "        self.delimiter = delimiter\n",
    "\n",
    "    def loadFile(file, )\n",
    "\n",
    "class CSV_IOMachine:\n",
    "    def __init__(self, encoding: str, delimiter: str):\n",
    "        super().__init__(encoding, delimiter)\n",
    "\n",
    "    def printT():\n",
    "        print(\"CSV\")"
   ]
  },
  {
   "cell_type": "code",
   "execution_count": 33,
   "metadata": {},
   "outputs": [
    {
     "name": "stdout",
     "output_type": "stream",
     "text": [
      "xynp\n"
     ]
    }
   ],
   "source": [
    "import re\n",
    "\n",
    "dateiname = \"hello_world.xynp\"\n",
    "dateityp = re.search(r'\\.([^.]+)$', dateiname).group(1)\n",
    "print(dateityp)"
   ]
  }
 ],
 "metadata": {
  "kernelspec": {
   "display_name": "Python 3",
   "language": "python",
   "name": "python3"
  },
  "language_info": {
   "codemirror_mode": {
    "name": "ipython",
    "version": 3
   },
   "file_extension": ".py",
   "mimetype": "text/x-python",
   "name": "python",
   "nbconvert_exporter": "python",
   "pygments_lexer": "ipython3",
   "version": "3.11.4"
  },
  "orig_nbformat": 4
 },
 "nbformat": 4,
 "nbformat_minor": 2
}
